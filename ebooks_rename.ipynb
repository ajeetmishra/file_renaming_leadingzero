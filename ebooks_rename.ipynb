{
 "nbformat": 4,
 "nbformat_minor": 2,
 "metadata": {
  "language_info": {
   "name": "python",
   "codemirror_mode": {
    "name": "ipython",
    "version": 3
   },
   "version": "3.7.3-final"
  },
  "orig_nbformat": 2,
  "file_extension": ".py",
  "mimetype": "text/x-python",
  "name": "python",
  "npconvert_exporter": "python",
  "pygments_lexer": "ipython3",
  "version": 3,
  "kernelspec": {
   "name": "python37364bit012921a167144f21b858934a0f9b0c67",
   "display_name": "Python 3.7.3 64-bit"
  }
 },
 "cells": [
  {
   "cell_type": "code",
   "execution_count": 1,
   "metadata": {},
   "outputs": [
    {
     "output_type": "stream",
     "name": "stdout",
     "text": "/home/qf/Downloads/fun with pencil\n"
    }
   ],
   "source": [
    "import os\n",
    "print(os.getcwd())"
   ]
  },
  {
   "cell_type": "code",
   "execution_count": 2,
   "metadata": {},
   "outputs": [
    {
     "output_type": "stream",
     "name": "stdout",
     "text": "fwp-98.png \t\t fwp-098.png\nfwp-82.png \t\t fwp-082.png\nfwp-44.png \t\t fwp-044.png\nfwp-47.png \t\t fwp-047.png\nfwp-32.png \t\t fwp-032.png\nfwp-103.png \t\t fwp-103.png\nfwp-65.png \t\t fwp-065.png\nfwp-23.png \t\t fwp-023.png\nfwp-88.png \t\t fwp-088.png\nfwp-108.png \t\t fwp-108.png\nfwp-0.png \t\t fwp-000.png\nfwp-71.png \t\t fwp-071.png\nfwp-3.png \t\t fwp-003.png\nfwp-54.png \t\t fwp-054.png\nfwp-109.png \t\t fwp-109.png\nfwp-90.png \t\t fwp-090.png\nfwp-60.png \t\t fwp-060.png\nfwp-48.png \t\t fwp-048.png\nfwp-76.png \t\t fwp-076.png\nfwp-100.png \t\t fwp-100.png\nfwp-66.png \t\t fwp-066.png\nfwp-43.png \t\t fwp-043.png\nfwp-17.png \t\t fwp-017.png\nfwp-96.png \t\t fwp-096.png\nfwp-55.png \t\t fwp-055.png\nfwp-36.png \t\t fwp-036.png\nfwp-20.png \t\t fwp-020.png\nfwp-85.png \t\t fwp-085.png\nfwp-114.png \t\t fwp-114.png\nfwp-115.png \t\t fwp-115.png\nfwp-18.png \t\t fwp-018.png\nfwp-28.png \t\t fwp-028.png\nfwp-10.png \t\t fwp-010.png\nfwp-63.png \t\t fwp-063.png\nfwp-72.png \t\t fwp-072.png\nfwp-25.png \t\t fwp-025.png\nfwp-89.png \t\t fwp-089.png\nfwp-27.png \t\t fwp-027.png\nfwp-95.png \t\t fwp-095.png\nfwp-93.png \t\t fwp-093.png\nfwp-33.png \t\t fwp-033.png\nfwp-77.png \t\t fwp-077.png\nfwp-119.png \t\t fwp-119.png\nfwp-78.png \t\t fwp-078.png\nfwp-75.png \t\t fwp-075.png\nfwp-45.png \t\t fwp-045.png\nfwp-92.png \t\t fwp-092.png\nfwp-97.png \t\t fwp-097.png\nfwp-81.png \t\t fwp-081.png\nfwp-59.png \t\t fwp-059.png\nfwp-35.png \t\t fwp-035.png\nfwp-22.png \t\t fwp-022.png\nfwp-86.png \t\t fwp-086.png\nfwp-107.png \t\t fwp-107.png\nfwp-6.png \t\t fwp-006.png\nfwp-1.png \t\t fwp-001.png\nfwp-67.png \t\t fwp-067.png\nfwp-62.png \t\t fwp-062.png\nfwp-57.png \t\t fwp-057.png\nfwp-102.png \t\t fwp-102.png\nfwp-7.png \t\t fwp-007.png\nfwp-118.png \t\t fwp-118.png\nfwp-64.png \t\t fwp-064.png\nfwp-42.png \t\t fwp-042.png\nfwp-52.png \t\t fwp-052.png\nfwp-37.png \t\t fwp-037.png\nfwp-84.png \t\t fwp-084.png\nfwp-104.png \t\t fwp-104.png\nfwp-51.png \t\t fwp-051.png\nfwp-50.png \t\t fwp-050.png\nfwp-40.png \t\t fwp-040.png\nfwp-58.png \t\t fwp-058.png\nfwp-49.png \t\t fwp-049.png\nfwp-80.png \t\t fwp-080.png\nfwp-30.png \t\t fwp-030.png\nfwp-112.png \t\t fwp-112.png\nfwp-56.png \t\t fwp-056.png\nfwp-21.png \t\t fwp-021.png\nfwp-110.png \t\t fwp-110.png\nfwp-14.png \t\t fwp-014.png\nfwp-4.png \t\t fwp-004.png\nfwp-69.png \t\t fwp-069.png\nfwp-2.png \t\t fwp-002.png\nfwp-46.png \t\t fwp-046.png\nfwp-91.png \t\t fwp-091.png\nfwp-106.png \t\t fwp-106.png\nfwp-41.png \t\t fwp-041.png\nfwp-61.png \t\t fwp-061.png\nfwp-101.png \t\t fwp-101.png\nfwp-68.png \t\t fwp-068.png\nfwp-16.png \t\t fwp-016.png\nfwp-117.png \t\t fwp-117.png\nfwp-74.png \t\t fwp-074.png\nfwp-9.png \t\t fwp-009.png\nfwp-79.png \t\t fwp-079.png\nfwp-111.png \t\t fwp-111.png\nfwp-31.png \t\t fwp-031.png\nfwp-39.png \t\t fwp-039.png\nfwp-13.png \t\t fwp-013.png\nfwp-24.png \t\t fwp-024.png\nfwp-15.png \t\t fwp-015.png\nfwp-12.png \t\t fwp-012.png\nfwp-116.png \t\t fwp-116.png\nfwp-34.png \t\t fwp-034.png\nfwp-53.png \t\t fwp-053.png\nfwp-120.png \t\t fwp-120.png\nfwp-105.png \t\t fwp-105.png\nfwp-26.png \t\t fwp-026.png\nfwp-5.png \t\t fwp-005.png\nfwp-113.png \t\t fwp-113.png\nfwp-87.png \t\t fwp-087.png\nfwp-99.png \t\t fwp-099.png\nfwp-11.png \t\t fwp-011.png\nfwp-73.png \t\t fwp-073.png\nfwp-19.png \t\t fwp-019.png\nfwp-8.png \t\t fwp-008.png\nfwp-83.png \t\t fwp-083.png\nfwp-38.png \t\t fwp-038.png\nfwp-94.png \t\t fwp-094.png\nfwp-70.png \t\t fwp-070.png\nfwp-121.png \t\t fwp-121.png\nfwp-29.png \t\t fwp-029.png\n"
    }
   ],
   "source": [
    "import re\n",
    "file_extn = 'png'\n",
    "\n",
    "def repl_fn(match):\n",
    "    return match.group(1) + match.group(2).zfill(3) + '.' + file_extn\n",
    "\n",
    "\n",
    "pattern_string = r'(\\w+-)(\\d*).' + file_extn + '$'\n",
    "for fname in os.listdir():\n",
    "    if fname[-3:] == file_extn:\n",
    "        dst = re.sub(pattern_string, repl_fn, fname)\n",
    "        print(fname, '\\t\\t', dst)\n",
    "        os.rename(fname, dst)"
   ]
  },
  {
   "cell_type": "code",
   "execution_count": null,
   "metadata": {},
   "outputs": [],
   "source": []
  }
 ]
}